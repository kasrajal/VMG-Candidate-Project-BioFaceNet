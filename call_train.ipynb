{
  "nbformat": 4,
  "nbformat_minor": 0,
  "metadata": {
    "colab": {
      "name": "call_train.ipynb",
      "provenance": []
    },
    "kernelspec": {
      "name": "python3",
      "display_name": "Python 3"
    },
    "language_info": {
      "name": "python"
    }
  },
  "cells": [
    {
      "cell_type": "code",
      "metadata": {
        "id": "D5RI-wfaPuid"
      },
      "source": [
        "train_set = InputDataset(\n",
        "    '/content/drive/MyDrive/VMG Candidate Project/train_Set'\n",
        "    )\n",
        "\n",
        "train_shading_set = ShadingDataset(\n",
        "    '/content/drive/MyDrive/VMG Candidate Project/train_shading_set'\n",
        ")\n",
        "\n",
        "validation_set = InputDataset(\n",
        "    '/content/drive/MyDrive/VMG Candidate Project/val_Set'\n",
        "    )\n",
        "\n",
        "validation_shading_set = ShadingDataset(\n",
        "    '/content/drive/MyDrive/VMG Candidate Project/val_shading_Set'\n",
        ")\n",
        "\n",
        "net = BFNet().to(device)\n",
        "train_net(\n",
        "    net, \n",
        "    options,  \n",
        "    train_set,\n",
        "    train_shading_set, \n",
        "    validation_set,\n",
        "    validation_shading_set\n",
        ")"
      ],
      "execution_count": null,
      "outputs": []
    }
  ]
}