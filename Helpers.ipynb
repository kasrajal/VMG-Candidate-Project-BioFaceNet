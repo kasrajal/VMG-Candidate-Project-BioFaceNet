{
  "nbformat": 4,
  "nbformat_minor": 0,
  "metadata": {
    "colab": {
      "name": "Helpers.ipynb",
      "provenance": []
    },
    "kernelspec": {
      "name": "python3",
      "display_name": "Python 3"
    },
    "language_info": {
      "name": "python"
    }
  },
  "cells": [
    {
      "cell_type": "code",
      "metadata": {
        "id": "rqWk4I9VOBwi"
      },
      "source": [
        "def show_image(image, title=None, style=None):\n",
        "    plt.figure(figsize=(8, 8))\n",
        "    if title:\n",
        "        plt.title(title)\n",
        "    if type(image) == torch.Tensor:\n",
        "        image = image.numpy().transpose(1, 2, 0)\n",
        "    if image.shape[0]<3:\n",
        "        show_image_grayscale(image,title,style)\n",
        "    plt.imshow(image, cmap=style)\n",
        "    plt.show()\n",
        "    \n",
        "\n",
        "def show_image_grayscale(image, title=None, style=None):\n",
        "    plt.figure(figsize=(8, 8))\n",
        "    if title:\n",
        "        plt.title(title)\n",
        "    if type(image) == torch.Tensor:\n",
        "        image = image.numpy().squeeze()\n",
        "    plt.imshow(image, cmap=style)\n",
        "    plt.show()\n",
        "\n",
        "def get_psnr(img_1, img_2):\n",
        "    img_1 = img_1.astype(np.float) # convert to float first\n",
        "    img_2 = img_2.astype(np.float)\n",
        "    mse = np.mean(np.square(img_1 - img_2))\n",
        "    if mse == 0: # same image\n",
        "        return float('inf')\n",
        "    return 10 * np.log10(255.0**2 / mse)\n",
        "\n",
        "def normalize_tensor(cur_tensor):\n",
        "  b, c, h, w = cur_tensor.shape\n",
        "  min_v, _ = torch.min(cur_tensor.view(b, c, -1), dim=2)\n",
        "  max_v, _ = torch.max(cur_tensor.view(b, c, -1), dim=2)\n",
        "  min_v = min_v.view(b, c, 1, 1)\n",
        "  max_v = max_v.view(b, c, 1, 1)\n",
        "  return (cur_tensor - min_v) / (max_v - min_v)\n",
        "\n",
        "def get_psnr_torch(tensor_1, tensor_2):\n",
        "    \n",
        "    # Normalize the tensors\n",
        "    tensor_1 = normalize_tensor(tensor_1)\n",
        "    tensor_2 = normalize_tensor(tensor_2)\n",
        "    \n",
        "    # Calculate PSNR\n",
        "    mse = F.mse_loss(tensor_1, tensor_2)\n",
        "    psnr = 10 * torch.log10(1 / mse)\n",
        "    return psnr"
      ],
      "execution_count": null,
      "outputs": []
    }
  ]
}