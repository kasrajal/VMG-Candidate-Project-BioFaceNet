{
  "nbformat": 4,
  "nbformat_minor": 0,
  "metadata": {
    "colab": {
      "name": "test_map_shape.ipynb",
      "provenance": []
    },
    "kernelspec": {
      "name": "python3",
      "display_name": "Python 3"
    },
    "language_info": {
      "name": "python"
    }
  },
  "cells": [
    {
      "cell_type": "code",
      "metadata": {
        "id": "FESoDbDnUGTR"
      },
      "source": [
        "#Test network architecture for shapes of maps, input images, and reconstructed images \n",
        "net = BFNet().to(device)\n",
        "inp = torch.randn(4,3, 128,128).to(device)\n",
        "fmel, fblood, shading, rgbim, specularities = net(inp,options) #shading, specmask, weightA, weightD, Fweights, CCT, b, BGrid\n",
        "print(rgbim.shape,specularities.shape,fmel.shape,fblood.shape,shading.shape))"
      ],
      "execution_count": null,
      "outputs": []
    }
  ]
}