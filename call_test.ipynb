{
  "nbformat": 4,
  "nbformat_minor": 0,
  "metadata": {
    "colab": {
      "name": "call_test.ipynb",
      "provenance": []
    },
    "kernelspec": {
      "name": "python3",
      "display_name": "Python 3"
    },
    "language_info": {
      "name": "python"
    }
  },
  "cells": [
    {
      "cell_type": "code",
      "metadata": {
        "id": "J5IhP5c1RE0c"
      },
      "source": [
        "test_set = InputDataset(\n",
        "    '/content/drive/MyDrive/VMG Candidate Project/test_Set'\n",
        "    )\n",
        "test_shading_set = ShadingDataset( \n",
        "'/content/drive/MyDrive/VMG Candidate Project/test_shading_set'\n",
        "  )\n",
        "\n",
        "test_loader = DataLoader(\n",
        "        test_set, \n",
        "        batch_size=options['batch_size'], \n",
        "        num_workers=options['num_workers'],\n",
        "        shuffle=False,\n",
        "        pin_memory=True\n",
        "        )\n",
        "\n",
        "test_shading_loader = DataLoader(\n",
        "        test_shading_set, \n",
        "        batch_size=options['batch_size'], \n",
        "        num_workers=options['num_workers'],\n",
        "        shuffle=False,\n",
        "        pin_memory=True\n",
        "        )\n",
        "\n",
        "net = BFNet().to(device)\n",
        "net.load_state_dict(torch.load('/content/drive/MyDrive/VMG Candidate Project/Model_Param/BioFaceNet.pth'))\n",
        "\n",
        "test_net(\n",
        "    net,   \n",
        "    test_loader,\n",
        "    test_shading_loader,\n",
        "    show_res=False\n",
        ")"
      ],
      "execution_count": null,
      "outputs": []
    }
  ]
}